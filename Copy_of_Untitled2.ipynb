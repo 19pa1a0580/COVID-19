{
  "nbformat": 4,
  "nbformat_minor": 0,
  "metadata": {
    "colab": {
      "name": "Copy of Copy of Untitled2.ipynb",
      "provenance": [],
      "toc_visible": true,
      "include_colab_link": true
    },
    "kernelspec": {
      "name": "python3",
      "display_name": "Python 3"
    }
  },
  "cells": [
    {
      "cell_type": "markdown",
      "metadata": {
        "id": "view-in-github",
        "colab_type": "text"
      },
      "source": [
        "<a href=\"https://colab.research.google.com/github/19pa1a0580/COVID-19/blob/master/Copy_of_Untitled2.ipynb\" target=\"_parent\"><img src=\"https://colab.research.google.com/assets/colab-badge.svg\" alt=\"Open In Colab\"/></a>"
      ]
    },
    {
      "cell_type": "markdown",
      "metadata": {
        "id": "4gJW1CLGMN2j",
        "colab_type": "text"
      },
      "source": [
        "# **Importing the required modules**"
      ]
    },
    {
      "cell_type": "code",
      "metadata": {
        "id": "JOPcMAL8BBXp",
        "colab_type": "code",
        "colab": {}
      },
      "source": [
        "import numpy as np\n",
        "import pandas as pd\n",
        "import matplotlib.pyplot as plt\n",
        "from sklearn.cluster import KMeans\n",
        "%matplotlib inline"
      ],
      "execution_count": 0,
      "outputs": []
    },
    {
      "cell_type": "markdown",
      "metadata": {
        "id": "mPhZfBT-MXKc",
        "colab_type": "text"
      },
      "source": [
        "# **Forming dataframes of single day and concating them to a single dataframe.**"
      ]
    },
    {
      "cell_type": "code",
      "metadata": {
        "id": "6NlRJqOgB6Ay",
        "colab_type": "code",
        "outputId": "d4d4ccd0-3c2f-464c-dabe-ba2409e832e9",
        "colab": {
          "base_uri": "https://localhost:8080/",
          "height": 539
        }
      },
      "source": [
        "d1=pd.read_csv(\"01-22-2020.csv\")\n",
        "d2=pd.read_csv(\"01-23-2020.csv\")\n",
        "d3=pd.read_csv(\"01-24-2020.csv\")\n",
        "d4=pd.read_csv(\"01-25-2020.csv\")\n",
        "d5=pd.read_csv(\"01-26-2020.csv\")\n",
        "d6=pd.read_csv(\"01-27-2020.csv\")\n",
        "d7=pd.read_csv(\"01-28-2020.csv\")\n",
        "d8=pd.read_csv(\"01-29-2020.csv\")\n",
        "d9=pd.read_csv(\"01-30-2020.csv\")\n",
        "d10=pd.read_csv(\"01-31-2020.csv\")\n",
        "d11=pd.read_csv(\"02-01-2020.csv\")\n",
        "d12=pd.read_csv(\"02-02-2020.csv\")\n",
        "d13=pd.read_csv(\"02-03-2020.csv\")\n",
        "d14=pd.read_csv(\"02-04-2020.csv\")\n",
        "d15=pd.read_csv(\"02-05-2020.csv\")\n",
        "d16=pd.read_csv(\"02-06-2020.csv\")\n",
        "d17=pd.read_csv(\"02-07-2020.csv\")\n",
        "d18=pd.read_csv(\"02-08-2020.csv\")\n",
        "d19=pd.read_csv(\"02-09-2020.csv\")\n",
        "d20=pd.read_csv(\"02-10-2020.csv\")\n",
        "d21=pd.read_csv(\"02-11-2020.csv\")\n",
        "d22=pd.read_csv(\"02-12-2020.csv\")\n",
        "d23=pd.read_csv(\"02-13-2020.csv\")\n",
        "d24=pd.read_csv(\"02-14-2020.csv\")\n",
        "d25=pd.read_csv(\"02-15-2020.csv\")\n",
        "d26=pd.read_csv(\"02-16-2020.csv\")\n",
        "d27=pd.read_csv(\"02-17-2020.csv\")\n",
        "d28=pd.read_csv(\"02-18-2020.csv\")\n",
        "d29=pd.read_csv(\"02-19-2020.csv\")\n",
        "d30=pd.read_csv(\"02-20-2020.csv\")\n",
        "d31=pd.read_csv(\"02-21-2020.csv\")\n",
        "d32=pd.read_csv(\"02-22-2020.csv\")\n",
        "d33=pd.read_csv(\"02-23-2020.csv\")\n",
        "d34=pd.read_csv(\"02-24-2020.csv\")\n",
        "d35=pd.read_csv(\"02-25-2020.csv\")\n",
        "d36=pd.read_csv(\"02-26-2020.csv\")\n",
        "d37=pd.read_csv(\"02-27-2020.csv\")\n",
        "d38=pd.read_csv(\"02-28-2020.csv\")\n",
        "d39=pd.read_csv(\"02-29-2020.csv\")\n",
        "d40=pd.read_csv(\"03-01-2020.csv\")\n",
        "d41=pd.read_csv(\"03-02-2020.csv\")\n",
        "d42=pd.read_csv(\"03-03-2020.csv\")\n",
        "d43=pd.read_csv(\"03-04-2020.csv\")\n",
        "d44=pd.read_csv(\"03-05-2020.csv\")\n",
        "d45=pd.read_csv(\"03-06-2020.csv\")\n",
        "d46=pd.read_csv(\"03-07-2020.csv\")\n",
        "d47=pd.read_csv(\"03-08-2020.csv\")\n",
        "d48=pd.read_csv(\"03-09-2020.csv\")\n",
        "d49=pd.read_csv(\"03-10-2020.csv\")\n",
        "d50=pd.read_csv(\"03-11-2020.csv\")\n",
        "d51=pd.read_csv(\"03-12-2020.csv\")\n",
        "d52=pd.read_csv(\"03-13-2020.csv\")\n",
        "d53=pd.read_csv(\"03-14-2020.csv\")\n",
        "d54=pd.read_csv(\"03-15-2020.csv\")\n",
        "d55=pd.read_csv(\"03-16-2020.csv\")\n",
        "d56=pd.read_csv(\"03-17-2020.csv\")\n",
        "d57=pd.read_csv(\"03-18-2020.csv\")\n",
        "d58=pd.read_csv(\"03-19-2020.csv\")\n",
        "d59=pd.read_csv(\"03-20-2020.csv\")\n",
        "d60=pd.read_csv(\"03-21-2020.csv\")\n",
        "frame=[d1,d2,d3,d4,d5,d6,d7,d8,d9,d10,d11,d12,d13,d14,d15,d16,d17,d18,d19,d20,d21,d22,d23,d24,d25,d26,d27,d28,d29,d30,d31,d32,d33,d34,d35,d36,d37,d38,d39,d40,d41,d42,d43,d44,d45,d46,d47,d48,d49,d50,d51,d52,d53,d54,d56,d57,d58,d59,d60]\n",
        "covid=pd.concat(frame)\n",
        "covid\n"
      ],
      "execution_count": 0,
      "outputs": [
        {
          "output_type": "stream",
          "text": [
            "/usr/local/lib/python3.6/dist-packages/ipykernel_launcher.py:62: FutureWarning: Sorting because non-concatenation axis is not aligned. A future version\n",
            "of pandas will change to not sort by default.\n",
            "\n",
            "To accept the future behavior, pass 'sort=False'.\n",
            "\n",
            "To retain the current behavior and silence the warning, pass 'sort=True'.\n",
            "\n"
          ],
          "name": "stderr"
        },
        {
          "output_type": "execute_result",
          "data": {
            "text/html": [
              "<div>\n",
              "<style scoped>\n",
              "    .dataframe tbody tr th:only-of-type {\n",
              "        vertical-align: middle;\n",
              "    }\n",
              "\n",
              "    .dataframe tbody tr th {\n",
              "        vertical-align: top;\n",
              "    }\n",
              "\n",
              "    .dataframe thead th {\n",
              "        text-align: right;\n",
              "    }\n",
              "</style>\n",
              "<table border=\"1\" class=\"dataframe\">\n",
              "  <thead>\n",
              "    <tr style=\"text-align: right;\">\n",
              "      <th></th>\n",
              "      <th>Confirmed</th>\n",
              "      <th>Country/Region</th>\n",
              "      <th>Deaths</th>\n",
              "      <th>Last Update</th>\n",
              "      <th>Latitude</th>\n",
              "      <th>Longitude</th>\n",
              "      <th>Province/State</th>\n",
              "      <th>Recovered</th>\n",
              "    </tr>\n",
              "  </thead>\n",
              "  <tbody>\n",
              "    <tr>\n",
              "      <th>0</th>\n",
              "      <td>1.0</td>\n",
              "      <td>Mainland China</td>\n",
              "      <td>NaN</td>\n",
              "      <td>1/22/2020 17:00</td>\n",
              "      <td>NaN</td>\n",
              "      <td>NaN</td>\n",
              "      <td>Anhui</td>\n",
              "      <td>NaN</td>\n",
              "    </tr>\n",
              "    <tr>\n",
              "      <th>1</th>\n",
              "      <td>14.0</td>\n",
              "      <td>Mainland China</td>\n",
              "      <td>NaN</td>\n",
              "      <td>1/22/2020 17:00</td>\n",
              "      <td>NaN</td>\n",
              "      <td>NaN</td>\n",
              "      <td>Beijing</td>\n",
              "      <td>NaN</td>\n",
              "    </tr>\n",
              "    <tr>\n",
              "      <th>2</th>\n",
              "      <td>6.0</td>\n",
              "      <td>Mainland China</td>\n",
              "      <td>NaN</td>\n",
              "      <td>1/22/2020 17:00</td>\n",
              "      <td>NaN</td>\n",
              "      <td>NaN</td>\n",
              "      <td>Chongqing</td>\n",
              "      <td>NaN</td>\n",
              "    </tr>\n",
              "    <tr>\n",
              "      <th>3</th>\n",
              "      <td>1.0</td>\n",
              "      <td>Mainland China</td>\n",
              "      <td>NaN</td>\n",
              "      <td>1/22/2020 17:00</td>\n",
              "      <td>NaN</td>\n",
              "      <td>NaN</td>\n",
              "      <td>Fujian</td>\n",
              "      <td>NaN</td>\n",
              "    </tr>\n",
              "    <tr>\n",
              "      <th>4</th>\n",
              "      <td>NaN</td>\n",
              "      <td>Mainland China</td>\n",
              "      <td>NaN</td>\n",
              "      <td>1/22/2020 17:00</td>\n",
              "      <td>NaN</td>\n",
              "      <td>NaN</td>\n",
              "      <td>Gansu</td>\n",
              "      <td>NaN</td>\n",
              "    </tr>\n",
              "    <tr>\n",
              "      <th>...</th>\n",
              "      <td>...</td>\n",
              "      <td>...</td>\n",
              "      <td>...</td>\n",
              "      <td>...</td>\n",
              "      <td>...</td>\n",
              "      <td>...</td>\n",
              "      <td>...</td>\n",
              "      <td>...</td>\n",
              "    </tr>\n",
              "    <tr>\n",
              "      <th>299</th>\n",
              "      <td>0.0</td>\n",
              "      <td>Jersey</td>\n",
              "      <td>0.0</td>\n",
              "      <td>2020-03-17T18:33:03</td>\n",
              "      <td>49.1900</td>\n",
              "      <td>-2.110</td>\n",
              "      <td>NaN</td>\n",
              "      <td>0.0</td>\n",
              "    </tr>\n",
              "    <tr>\n",
              "      <th>300</th>\n",
              "      <td>0.0</td>\n",
              "      <td>Puerto Rico</td>\n",
              "      <td>0.0</td>\n",
              "      <td>2020-03-17T16:13:14</td>\n",
              "      <td>18.2000</td>\n",
              "      <td>-66.500</td>\n",
              "      <td>NaN</td>\n",
              "      <td>0.0</td>\n",
              "    </tr>\n",
              "    <tr>\n",
              "      <th>301</th>\n",
              "      <td>0.0</td>\n",
              "      <td>Republic of the Congo</td>\n",
              "      <td>0.0</td>\n",
              "      <td>2020-03-17T21:33:03</td>\n",
              "      <td>-1.4400</td>\n",
              "      <td>15.556</td>\n",
              "      <td>NaN</td>\n",
              "      <td>0.0</td>\n",
              "    </tr>\n",
              "    <tr>\n",
              "      <th>302</th>\n",
              "      <td>0.0</td>\n",
              "      <td>The Bahamas</td>\n",
              "      <td>0.0</td>\n",
              "      <td>2020-03-19T12:13:38</td>\n",
              "      <td>24.2500</td>\n",
              "      <td>-76.000</td>\n",
              "      <td>NaN</td>\n",
              "      <td>0.0</td>\n",
              "    </tr>\n",
              "    <tr>\n",
              "      <th>303</th>\n",
              "      <td>0.0</td>\n",
              "      <td>The Gambia</td>\n",
              "      <td>0.0</td>\n",
              "      <td>2020-03-18T14:13:56</td>\n",
              "      <td>13.4667</td>\n",
              "      <td>-16.600</td>\n",
              "      <td>NaN</td>\n",
              "      <td>0.0</td>\n",
              "    </tr>\n",
              "  </tbody>\n",
              "</table>\n",
              "<p>7345 rows × 8 columns</p>\n",
              "</div>"
            ],
            "text/plain": [
              "     Confirmed         Country/Region  ...  Province/State Recovered\n",
              "0          1.0         Mainland China  ...           Anhui       NaN\n",
              "1         14.0         Mainland China  ...         Beijing       NaN\n",
              "2          6.0         Mainland China  ...       Chongqing       NaN\n",
              "3          1.0         Mainland China  ...          Fujian       NaN\n",
              "4          NaN         Mainland China  ...           Gansu       NaN\n",
              "..         ...                    ...  ...             ...       ...\n",
              "299        0.0                 Jersey  ...             NaN       0.0\n",
              "300        0.0            Puerto Rico  ...             NaN       0.0\n",
              "301        0.0  Republic of the Congo  ...             NaN       0.0\n",
              "302        0.0            The Bahamas  ...             NaN       0.0\n",
              "303        0.0             The Gambia  ...             NaN       0.0\n",
              "\n",
              "[7345 rows x 8 columns]"
            ]
          },
          "metadata": {
            "tags": []
          },
          "execution_count": 2
        }
      ]
    },
    {
      "cell_type": "markdown",
      "metadata": {
        "id": "-ojXEHYzMqxG",
        "colab_type": "text"
      },
      "source": [
        "# **Cleaning the data**"
      ]
    },
    {
      "cell_type": "code",
      "metadata": {
        "id": "otPzPAhoylgZ",
        "colab_type": "code",
        "colab": {}
      },
      "source": [
        "covid[\"Confirmed\"].fillna(0,inplace=True) \n",
        "covid[\"Deaths\"].fillna(0,inplace=True)\n",
        "covid[\"Recovered\"].fillna(0,inplace=True)\n",
        "covid[\"Province/State\"].fillna(covid[\"Province/State\"].mode()[0],inplace=True)"
      ],
      "execution_count": 0,
      "outputs": []
    },
    {
      "cell_type": "code",
      "metadata": {
        "id": "sH-xQXkYylc4",
        "colab_type": "code",
        "outputId": "af935bfb-b8d6-4adb-8cad-b414e70b2845",
        "colab": {
          "base_uri": "https://localhost:8080/",
          "height": 235
        }
      },
      "source": [
        "covid.info()"
      ],
      "execution_count": 0,
      "outputs": [
        {
          "output_type": "stream",
          "text": [
            "<class 'pandas.core.frame.DataFrame'>\n",
            "Int64Index: 7345 entries, 0 to 303\n",
            "Data columns (total 8 columns):\n",
            "Confirmed         7345 non-null float64\n",
            "Country/Region    7345 non-null object\n",
            "Deaths            7345 non-null float64\n",
            "Last Update       7345 non-null object\n",
            "Latitude          4527 non-null float64\n",
            "Longitude         4527 non-null float64\n",
            "Province/State    7345 non-null object\n",
            "Recovered         7345 non-null float64\n",
            "dtypes: float64(5), object(3)\n",
            "memory usage: 516.4+ KB\n"
          ],
          "name": "stdout"
        }
      ]
    },
    {
      "cell_type": "markdown",
      "metadata": {
        "id": "tIh3p9saMzmA",
        "colab_type": "text"
      },
      "source": [
        "# **Forming dataframe contributing each row to each city.**"
      ]
    },
    {
      "cell_type": "code",
      "metadata": {
        "id": "Fwgx1PeAEuRl",
        "colab_type": "code",
        "outputId": "81e7bf78-1cb7-44f1-ce4d-6ab9f9ee65e3",
        "colab": {
          "base_uri": "https://localhost:8080/",
          "height": 402
        }
      },
      "source": [
        "covid19=covid.iloc[:,[6,0,2,7]]\n",
        "covid19"
      ],
      "execution_count": 0,
      "outputs": [
        {
          "output_type": "execute_result",
          "data": {
            "text/html": [
              "<div>\n",
              "<style scoped>\n",
              "    .dataframe tbody tr th:only-of-type {\n",
              "        vertical-align: middle;\n",
              "    }\n",
              "\n",
              "    .dataframe tbody tr th {\n",
              "        vertical-align: top;\n",
              "    }\n",
              "\n",
              "    .dataframe thead th {\n",
              "        text-align: right;\n",
              "    }\n",
              "</style>\n",
              "<table border=\"1\" class=\"dataframe\">\n",
              "  <thead>\n",
              "    <tr style=\"text-align: right;\">\n",
              "      <th></th>\n",
              "      <th>Province/State</th>\n",
              "      <th>Confirmed</th>\n",
              "      <th>Deaths</th>\n",
              "      <th>Recovered</th>\n",
              "    </tr>\n",
              "  </thead>\n",
              "  <tbody>\n",
              "    <tr>\n",
              "      <th>0</th>\n",
              "      <td>Anhui</td>\n",
              "      <td>1.0</td>\n",
              "      <td>0.0</td>\n",
              "      <td>0.0</td>\n",
              "    </tr>\n",
              "    <tr>\n",
              "      <th>1</th>\n",
              "      <td>Beijing</td>\n",
              "      <td>14.0</td>\n",
              "      <td>0.0</td>\n",
              "      <td>0.0</td>\n",
              "    </tr>\n",
              "    <tr>\n",
              "      <th>2</th>\n",
              "      <td>Chongqing</td>\n",
              "      <td>6.0</td>\n",
              "      <td>0.0</td>\n",
              "      <td>0.0</td>\n",
              "    </tr>\n",
              "    <tr>\n",
              "      <th>3</th>\n",
              "      <td>Fujian</td>\n",
              "      <td>1.0</td>\n",
              "      <td>0.0</td>\n",
              "      <td>0.0</td>\n",
              "    </tr>\n",
              "    <tr>\n",
              "      <th>4</th>\n",
              "      <td>Gansu</td>\n",
              "      <td>0.0</td>\n",
              "      <td>0.0</td>\n",
              "      <td>0.0</td>\n",
              "    </tr>\n",
              "    <tr>\n",
              "      <th>...</th>\n",
              "      <td>...</td>\n",
              "      <td>...</td>\n",
              "      <td>...</td>\n",
              "      <td>...</td>\n",
              "    </tr>\n",
              "    <tr>\n",
              "      <th>299</th>\n",
              "      <td>Gansu</td>\n",
              "      <td>0.0</td>\n",
              "      <td>0.0</td>\n",
              "      <td>0.0</td>\n",
              "    </tr>\n",
              "    <tr>\n",
              "      <th>300</th>\n",
              "      <td>Gansu</td>\n",
              "      <td>0.0</td>\n",
              "      <td>0.0</td>\n",
              "      <td>0.0</td>\n",
              "    </tr>\n",
              "    <tr>\n",
              "      <th>301</th>\n",
              "      <td>Gansu</td>\n",
              "      <td>0.0</td>\n",
              "      <td>0.0</td>\n",
              "      <td>0.0</td>\n",
              "    </tr>\n",
              "    <tr>\n",
              "      <th>302</th>\n",
              "      <td>Gansu</td>\n",
              "      <td>0.0</td>\n",
              "      <td>0.0</td>\n",
              "      <td>0.0</td>\n",
              "    </tr>\n",
              "    <tr>\n",
              "      <th>303</th>\n",
              "      <td>Gansu</td>\n",
              "      <td>0.0</td>\n",
              "      <td>0.0</td>\n",
              "      <td>0.0</td>\n",
              "    </tr>\n",
              "  </tbody>\n",
              "</table>\n",
              "<p>7345 rows × 4 columns</p>\n",
              "</div>"
            ],
            "text/plain": [
              "    Province/State  Confirmed  Deaths  Recovered\n",
              "0            Anhui        1.0     0.0        0.0\n",
              "1          Beijing       14.0     0.0        0.0\n",
              "2        Chongqing        6.0     0.0        0.0\n",
              "3           Fujian        1.0     0.0        0.0\n",
              "4            Gansu        0.0     0.0        0.0\n",
              "..             ...        ...     ...        ...\n",
              "299          Gansu        0.0     0.0        0.0\n",
              "300          Gansu        0.0     0.0        0.0\n",
              "301          Gansu        0.0     0.0        0.0\n",
              "302          Gansu        0.0     0.0        0.0\n",
              "303          Gansu        0.0     0.0        0.0\n",
              "\n",
              "[7345 rows x 4 columns]"
            ]
          },
          "metadata": {
            "tags": []
          },
          "execution_count": 4
        }
      ]
    },
    {
      "cell_type": "markdown",
      "metadata": {
        "id": "RGx5XARoNIbg",
        "colab_type": "text"
      },
      "source": [
        "# **Merging nearly duplicate rows**"
      ]
    },
    {
      "cell_type": "code",
      "metadata": {
        "id": "y5VcAAF6BaTP",
        "colab_type": "code",
        "outputId": "099b14fa-d418-407a-d579-e4f1107ad71a",
        "colab": {
          "base_uri": "https://localhost:8080/",
          "height": 402
        }
      },
      "source": [
        "covid19 = covid19.groupby('Province/State').agg(np.sum).reset_index()\n",
        "covid19"
      ],
      "execution_count": 0,
      "outputs": [
        {
          "output_type": "execute_result",
          "data": {
            "text/html": [
              "<div>\n",
              "<style scoped>\n",
              "    .dataframe tbody tr th:only-of-type {\n",
              "        vertical-align: middle;\n",
              "    }\n",
              "\n",
              "    .dataframe tbody tr th {\n",
              "        vertical-align: top;\n",
              "    }\n",
              "\n",
              "    .dataframe thead th {\n",
              "        text-align: right;\n",
              "    }\n",
              "</style>\n",
              "<table border=\"1\" class=\"dataframe\">\n",
              "  <thead>\n",
              "    <tr style=\"text-align: right;\">\n",
              "      <th></th>\n",
              "      <th>Province/State</th>\n",
              "      <th>Confirmed</th>\n",
              "      <th>Deaths</th>\n",
              "      <th>Recovered</th>\n",
              "    </tr>\n",
              "  </thead>\n",
              "  <tbody>\n",
              "    <tr>\n",
              "      <th>0</th>\n",
              "      <td>Montreal, QC</td>\n",
              "      <td>17.0</td>\n",
              "      <td>0.0</td>\n",
              "      <td>0.0</td>\n",
              "    </tr>\n",
              "    <tr>\n",
              "      <th>1</th>\n",
              "      <td>Norfolk County, MA</td>\n",
              "      <td>7.0</td>\n",
              "      <td>0.0</td>\n",
              "      <td>0.0</td>\n",
              "    </tr>\n",
              "    <tr>\n",
              "      <th>2</th>\n",
              "      <td>Alabama</td>\n",
              "      <td>400.0</td>\n",
              "      <td>0.0</td>\n",
              "      <td>0.0</td>\n",
              "    </tr>\n",
              "    <tr>\n",
              "      <th>3</th>\n",
              "      <td>Alameda County, CA</td>\n",
              "      <td>6.0</td>\n",
              "      <td>0.0</td>\n",
              "      <td>0.0</td>\n",
              "    </tr>\n",
              "    <tr>\n",
              "      <th>4</th>\n",
              "      <td>Alaska</td>\n",
              "      <td>47.0</td>\n",
              "      <td>0.0</td>\n",
              "      <td>0.0</td>\n",
              "    </tr>\n",
              "    <tr>\n",
              "      <th>...</th>\n",
              "      <td>...</td>\n",
              "      <td>...</td>\n",
              "      <td>...</td>\n",
              "      <td>...</td>\n",
              "    </tr>\n",
              "    <tr>\n",
              "      <th>278</th>\n",
              "      <td>Wyoming</td>\n",
              "      <td>93.0</td>\n",
              "      <td>0.0</td>\n",
              "      <td>0.0</td>\n",
              "    </tr>\n",
              "    <tr>\n",
              "      <th>279</th>\n",
              "      <td>Xinjiang</td>\n",
              "      <td>3295.0</td>\n",
              "      <td>87.0</td>\n",
              "      <td>1863.0</td>\n",
              "    </tr>\n",
              "    <tr>\n",
              "      <th>280</th>\n",
              "      <td>Yolo County, CA</td>\n",
              "      <td>4.0</td>\n",
              "      <td>0.0</td>\n",
              "      <td>0.0</td>\n",
              "    </tr>\n",
              "    <tr>\n",
              "      <th>281</th>\n",
              "      <td>Yunnan</td>\n",
              "      <td>8286.0</td>\n",
              "      <td>61.0</td>\n",
              "      <td>5110.0</td>\n",
              "    </tr>\n",
              "    <tr>\n",
              "      <th>282</th>\n",
              "      <td>Zhejiang</td>\n",
              "      <td>57501.0</td>\n",
              "      <td>30.0</td>\n",
              "      <td>36527.0</td>\n",
              "    </tr>\n",
              "  </tbody>\n",
              "</table>\n",
              "<p>283 rows × 4 columns</p>\n",
              "</div>"
            ],
            "text/plain": [
              "          Province/State  Confirmed  Deaths  Recovered\n",
              "0           Montreal, QC       17.0     0.0        0.0\n",
              "1     Norfolk County, MA        7.0     0.0        0.0\n",
              "2                Alabama      400.0     0.0        0.0\n",
              "3     Alameda County, CA        6.0     0.0        0.0\n",
              "4                 Alaska       47.0     0.0        0.0\n",
              "..                   ...        ...     ...        ...\n",
              "278              Wyoming       93.0     0.0        0.0\n",
              "279             Xinjiang     3295.0    87.0     1863.0\n",
              "280      Yolo County, CA        4.0     0.0        0.0\n",
              "281               Yunnan     8286.0    61.0     5110.0\n",
              "282             Zhejiang    57501.0    30.0    36527.0\n",
              "\n",
              "[283 rows x 4 columns]"
            ]
          },
          "metadata": {
            "tags": []
          },
          "execution_count": 5
        }
      ]
    },
    {
      "cell_type": "code",
      "metadata": {
        "id": "CwsQrb_JVC0s",
        "colab_type": "code",
        "outputId": "260d8237-f3b9-4a39-b418-bd0077783c98",
        "colab": {
          "base_uri": "https://localhost:8080/",
          "height": 34
        }
      },
      "source": [
        "covid19.columns"
      ],
      "execution_count": 0,
      "outputs": [
        {
          "output_type": "execute_result",
          "data": {
            "text/plain": [
              "Index(['Province/State', 'Confirmed', 'Deaths', 'Recovered'], dtype='object')"
            ]
          },
          "metadata": {
            "tags": []
          },
          "execution_count": 6
        }
      ]
    },
    {
      "cell_type": "code",
      "metadata": {
        "id": "qsvl2Ci8kUe3",
        "colab_type": "code",
        "outputId": "43b06af5-314d-4e95-b35c-f7414304fea5",
        "colab": {
          "base_uri": "https://localhost:8080/",
          "height": 1000
        }
      },
      "source": [
        "x=covid19.iloc[:,1:4].values\n",
        "x"
      ],
      "execution_count": 0,
      "outputs": [
        {
          "output_type": "execute_result",
          "data": {
            "text/plain": [
              "array([[1.700000e+01, 0.000000e+00, 0.000000e+00],\n",
              "       [7.000000e+00, 0.000000e+00, 0.000000e+00],\n",
              "       [4.000000e+02, 0.000000e+00, 0.000000e+00],\n",
              "       [6.000000e+00, 0.000000e+00, 0.000000e+00],\n",
              "       [4.700000e+01, 0.000000e+00, 0.000000e+00],\n",
              "       [7.800000e+02, 2.000000e+00, 0.000000e+00],\n",
              "       [4.467700e+04, 2.330000e+02, 2.873700e+04],\n",
              "       [3.520000e+02, 1.000000e+00, 7.000000e+00],\n",
              "       [3.760000e+02, 0.000000e+00, 0.000000e+00],\n",
              "       [1.400000e+01, 0.000000e+00, 0.000000e+00],\n",
              "       [1.100000e+01, 0.000000e+00, 0.000000e+00],\n",
              "       [2.700000e+01, 0.000000e+00, 0.000000e+00],\n",
              "       [1.700000e+01, 0.000000e+00, 0.000000e+00],\n",
              "       [1.947900e+04, 2.580000e+02, 9.835000e+03],\n",
              "       [1.000000e+00, 0.000000e+00, 0.000000e+00],\n",
              "       [1.600000e+01, 0.000000e+00, 0.000000e+00],\n",
              "       [4.000000e+00, 0.000000e+00, 0.000000e+00],\n",
              "       [2.000000e+00, 0.000000e+00, 0.000000e+00],\n",
              "       [6.000000e+00, 0.000000e+00, 0.000000e+00],\n",
              "       [3.400000e+01, 0.000000e+00, 7.000000e+00],\n",
              "       [1.816000e+03, 4.300000e+01, 8.300000e+01],\n",
              "       [7.000000e+00, 0.000000e+00, 0.000000e+00],\n",
              "       [3.000000e+00, 0.000000e+00, 0.000000e+00],\n",
              "       [6.544000e+03, 1.140000e+02, 3.400000e+01],\n",
              "       [1.000000e+00, 0.000000e+00, 0.000000e+00],\n",
              "       [1.100000e+01, 5.000000e+00, 0.000000e+00],\n",
              "       [8.000000e+01, 0.000000e+00, 0.000000e+00],\n",
              "       [3.000000e+00, 0.000000e+00, 0.000000e+00],\n",
              "       [1.000000e+00, 0.000000e+00, 0.000000e+00],\n",
              "       [4.000000e+00, 0.000000e+00, 0.000000e+00],\n",
              "       [1.000000e+00, 0.000000e+00, 0.000000e+00],\n",
              "       [1.000000e+00, 0.000000e+00, 0.000000e+00],\n",
              "       [6.100000e+01, 0.000000e+00, 4.400000e+01],\n",
              "       [2.692900e+04, 2.390000e+02, 1.625700e+04],\n",
              "       [7.000000e+00, 0.000000e+00, 0.000000e+00],\n",
              "       [3.000000e+00, 0.000000e+00, 0.000000e+00],\n",
              "       [5.000000e+00, 0.000000e+00, 0.000000e+00],\n",
              "       [1.000000e+00, 0.000000e+00, 0.000000e+00],\n",
              "       [1.749000e+03, 1.800000e+01, 0.000000e+00],\n",
              "       [7.500000e+02, 9.000000e+00, 0.000000e+00],\n",
              "       [3.200000e+01, 0.000000e+00, 0.000000e+00],\n",
              "       [4.200000e+01, 0.000000e+00, 1.600000e+01],\n",
              "       [1.220000e+02, 0.000000e+00, 0.000000e+00],\n",
              "       [1.500000e+01, 3.000000e+00, 0.000000e+00],\n",
              "       [2.000000e+00, 0.000000e+00, 0.000000e+00],\n",
              "       [3.000000e+00, 0.000000e+00, 0.000000e+00],\n",
              "       [1.670000e+02, 0.000000e+00, 0.000000e+00],\n",
              "       [4.000000e+00, 0.000000e+00, 0.000000e+00],\n",
              "       [9.315000e+03, 3.900000e+01, 1.000000e+01],\n",
              "       [8.000000e+00, 0.000000e+00, 0.000000e+00],\n",
              "       [7.539000e+03, 7.100000e+01, 3.250000e+03],\n",
              "       [1.696200e+04, 9.500000e+01, 2.940000e+02],\n",
              "       [3.020000e+02, 2.000000e+00, 0.000000e+00],\n",
              "       [9.000000e+00, 0.000000e+00, 0.000000e+00],\n",
              "       [6.000000e+00, 0.000000e+00, 0.000000e+00],\n",
              "       [2.000000e+00, 0.000000e+00, 0.000000e+00],\n",
              "       [4.000000e+00, 0.000000e+00, 0.000000e+00],\n",
              "       [3.000000e+00, 0.000000e+00, 0.000000e+00],\n",
              "       [4.000000e+00, 0.000000e+00, 0.000000e+00],\n",
              "       [4.000000e+00, 0.000000e+00, 0.000000e+00],\n",
              "       [3.760000e+02, 0.000000e+00, 0.000000e+00],\n",
              "       [4.000000e+00, 0.000000e+00, 0.000000e+00],\n",
              "       [5.000000e+00, 0.000000e+00, 0.000000e+00],\n",
              "       [2.488000e+03, 6.000000e+01, 0.000000e+00],\n",
              "       [3.000000e+00, 0.000000e+00, 0.000000e+00],\n",
              "       [1.700000e+01, 0.000000e+00, 0.000000e+00],\n",
              "       [7.165100e+04, 1.908000e+03, 1.200000e+02],\n",
              "       [1.400000e+01, 0.000000e+00, 0.000000e+00],\n",
              "       [4.700000e+01, 0.000000e+00, 0.000000e+00],\n",
              "       [2.000000e+00, 0.000000e+00, 0.000000e+00],\n",
              "       [6.000000e+01, 0.000000e+00, 0.000000e+00],\n",
              "       [1.400000e+04, 3.000000e+01, 8.449000e+03],\n",
              "       [1.900000e+01, 0.000000e+00, 0.000000e+00],\n",
              "       [1.157195e+06, 4.612300e+04, 1.305080e+05],\n",
              "       [1.837000e+03, 4.500000e+01, 0.000000e+00],\n",
              "       [4.600000e+01, 0.000000e+00, 1.400000e+01],\n",
              "       [1.900000e+01, 0.000000e+00, 0.000000e+00],\n",
              "       [2.840000e+02, 0.000000e+00, 0.000000e+00],\n",
              "       [6.300000e+01, 0.000000e+00, 0.000000e+00],\n",
              "       [5.000000e+00, 1.000000e+00, 0.000000e+00],\n",
              "       [6.000000e+00, 0.000000e+00, 0.000000e+00],\n",
              "       [6.000000e+00, 0.000000e+00, 0.000000e+00],\n",
              "       [5.200000e+01, 0.000000e+00, 0.000000e+00],\n",
              "       [6.283400e+04, 2.410000e+02, 3.735200e+04],\n",
              "       [1.159200e+04, 7.800000e+01, 6.439000e+03],\n",
              "       [6.407000e+03, 7.700000e+01, 3.996000e+03],\n",
              "       [7.740000e+03, 2.190000e+02, 4.864000e+03],\n",
              "       [2.000000e+00, 0.000000e+00, 0.000000e+00],\n",
              "       [2.100000e+01, 0.000000e+00, 0.000000e+00],\n",
              "       [2.000000e+00, 0.000000e+00, 0.000000e+00],\n",
              "       [1.210000e+02, 0.000000e+00, 0.000000e+00],\n",
              "       [1.381700e+04, 2.260000e+02, 9.503000e+03],\n",
              "       [2.054100e+04, 5.190000e+02, 1.142100e+04],\n",
              "       [5.799100e+04, 7.900000e+02, 3.849500e+04],\n",
              "       [3.000000e+00, 0.000000e+00, 0.000000e+00],\n",
              "       [1.500000e+01, 0.000000e+00, 0.000000e+00],\n",
              "       [4.432000e+03, 9.800000e+01, 1.499000e+03],\n",
              "       [4.000000e+00, 0.000000e+00, 0.000000e+00],\n",
              "       [2.691487e+06, 1.055010e+05, 1.204941e+06],\n",
              "       [2.000000e+00, 0.000000e+00, 0.000000e+00],\n",
              "       [1.800000e+01, 0.000000e+00, 0.000000e+00],\n",
              "       [4.720200e+04, 1.460000e+02, 3.153200e+04],\n",
              "       [9.500000e+01, 0.000000e+00, 0.000000e+00],\n",
              "       [2.363000e+03, 1.700000e+01, 1.400000e+01],\n",
              "       [4.220000e+02, 1.200000e+01, 0.000000e+00],\n",
              "       [3.369000e+03, 1.800000e+01, 1.784000e+03],\n",
              "       [2.980000e+02, 0.000000e+00, 0.000000e+00],\n",
              "       [2.000000e+00, 0.000000e+00, 0.000000e+00],\n",
              "       [5.000000e+00, 0.000000e+00, 0.000000e+00],\n",
              "       [1.000000e+00, 0.000000e+00, 0.000000e+00],\n",
              "       [3.000000e+00, 0.000000e+00, 0.000000e+00],\n",
              "       [1.000000e+00, 0.000000e+00, 0.000000e+00],\n",
              "       [2.837500e+04, 0.000000e+00, 1.875600e+04],\n",
              "       [4.237400e+04, 4.000000e+01, 2.721500e+04],\n",
              "       [4.142000e+03, 4.300000e+01, 2.679000e+03],\n",
              "       [3.000000e+00, 0.000000e+00, 0.000000e+00],\n",
              "       [2.000000e+00, 0.000000e+00, 0.000000e+00],\n",
              "       [1.950000e+02, 9.000000e+00, 0.000000e+00],\n",
              "       [2.960000e+02, 9.000000e+00, 1.000000e+00],\n",
              "       [6.000000e+00, 0.000000e+00, 0.000000e+00],\n",
              "       [4.120000e+02, 9.100000e+01, 8.000000e+00],\n",
              "       [2.000000e+00, 0.000000e+00, 0.000000e+00],\n",
              "       [3.000000e+00, 0.000000e+00, 0.000000e+00],\n",
              "       [2.000000e+00, 0.000000e+00, 0.000000e+00],\n",
              "       [4.000000e+00, 0.000000e+00, 0.000000e+00],\n",
              "       [6.000000e+00, 2.000000e+00, 0.000000e+00],\n",
              "       [5.899000e+03, 4.000000e+01, 3.397000e+03],\n",
              "       [3.400000e+01, 0.000000e+00, 2.600000e+01],\n",
              "       [1.050000e+02, 0.000000e+00, 0.000000e+00],\n",
              "       [2.198000e+03, 5.100000e+01, 0.000000e+00],\n",
              "       [5.580000e+02, 0.000000e+00, 2.980000e+02],\n",
              "       [3.000000e+00, 0.000000e+00, 0.000000e+00],\n",
              "       [3.400000e+01, 0.000000e+00, 7.000000e+00],\n",
              "       [2.680000e+02, 0.000000e+00, 0.000000e+00],\n",
              "       [3.000000e+00, 0.000000e+00, 0.000000e+00],\n",
              "       [8.700000e+01, 0.000000e+00, 0.000000e+00],\n",
              "       [1.400000e+01, 0.000000e+00, 3.000000e+00],\n",
              "       [4.000000e+00, 0.000000e+00, 0.000000e+00],\n",
              "       [2.000000e+00, 0.000000e+00, 0.000000e+00],\n",
              "       [6.990000e+02, 4.000000e+00, 3.000000e+00],\n",
              "       [2.422000e+03, 2.000000e+00, 7.000000e+00],\n",
              "       [2.000000e+00, 0.000000e+00, 0.000000e+00],\n",
              "       [1.900000e+03, 1.100000e+01, 0.000000e+00],\n",
              "       [1.600000e+01, 0.000000e+00, 0.000000e+00],\n",
              "       [5.660000e+02, 1.000000e+00, 0.000000e+00],\n",
              "       [3.430000e+02, 3.000000e+00, 0.000000e+00],\n",
              "       [2.010000e+02, 6.000000e+00, 0.000000e+00],\n",
              "       [8.200000e+01, 0.000000e+00, 0.000000e+00],\n",
              "       [1.400000e+01, 0.000000e+00, 0.000000e+00],\n",
              "       [9.000000e+00, 0.000000e+00, 0.000000e+00],\n",
              "       [0.000000e+00, 0.000000e+00, 0.000000e+00],\n",
              "       [4.000000e+00, 0.000000e+00, 0.000000e+00],\n",
              "       [2.700000e+01, 0.000000e+00, 0.000000e+00],\n",
              "       [2.110000e+02, 0.000000e+00, 0.000000e+00],\n",
              "       [1.284100e+04, 4.190000e+02, 1.000000e+01],\n",
              "       [5.680000e+02, 6.000000e+00, 0.000000e+00],\n",
              "       [6.400000e+01, 0.000000e+00, 0.000000e+00],\n",
              "       [8.000000e+00, 0.000000e+00, 0.000000e+00],\n",
              "       [2.360000e+02, 0.000000e+00, 0.000000e+00],\n",
              "       [3.756000e+03, 4.900000e+01, 1.000000e+00],\n",
              "       [2.080000e+02, 0.000000e+00, 0.000000e+00],\n",
              "       [2.441000e+03, 4.800000e+01, 1.760000e+02],\n",
              "       [3.198500e+04, 1.700000e+02, 0.000000e+00],\n",
              "       [7.000000e+00, 0.000000e+00, 0.000000e+00],\n",
              "       [5.800000e+01, 0.000000e+00, 0.000000e+00],\n",
              "       [2.000000e+01, 0.000000e+00, 0.000000e+00],\n",
              "       [3.257000e+03, 0.000000e+00, 2.351000e+03],\n",
              "       [3.000000e+00, 0.000000e+00, 0.000000e+00],\n",
              "       [1.200000e+01, 0.000000e+00, 0.000000e+00],\n",
              "       [7.850000e+02, 0.000000e+00, 0.000000e+00],\n",
              "       [7.800000e+01, 0.000000e+00, 0.000000e+00],\n",
              "       [1.700000e+01, 0.000000e+00, 0.000000e+00],\n",
              "       [1.000000e+00, 0.000000e+00, 0.000000e+00],\n",
              "       [1.000000e+00, 0.000000e+00, 0.000000e+00],\n",
              "       [6.900000e+01, 0.000000e+00, 0.000000e+00],\n",
              "       [7.810000e+02, 5.000000e+00, 0.000000e+00],\n",
              "       [2.000000e+00, 0.000000e+00, 0.000000e+00],\n",
              "       [2.030000e+02, 3.000000e+00, 0.000000e+00],\n",
              "       [2.200000e+01, 0.000000e+00, 0.000000e+00],\n",
              "       [1.775000e+03, 8.000000e+00, 5.400000e+01],\n",
              "       [1.900000e+01, 0.000000e+00, 0.000000e+00],\n",
              "       [3.200000e+01, 0.000000e+00, 0.000000e+00],\n",
              "       [6.060000e+02, 1.500000e+01, 0.000000e+00],\n",
              "       [1.373000e+03, 4.000000e+00, 0.000000e+00],\n",
              "       [9.000000e+00, 0.000000e+00, 0.000000e+00],\n",
              "       [6.000000e+00, 0.000000e+00, 0.000000e+00],\n",
              "       [2.800000e+01, 6.000000e+00, 0.000000e+00],\n",
              "       [3.000000e+00, 0.000000e+00, 0.000000e+00],\n",
              "       [2.000000e+00, 0.000000e+00, 0.000000e+00],\n",
              "       [4.000000e+00, 0.000000e+00, 0.000000e+00],\n",
              "       [9.000000e+00, 0.000000e+00, 0.000000e+00],\n",
              "       [9.000000e+00, 0.000000e+00, 0.000000e+00],\n",
              "       [1.100000e+01, 0.000000e+00, 0.000000e+00],\n",
              "       [5.800000e+01, 1.000000e+00, 0.000000e+00],\n",
              "       [8.930000e+02, 0.000000e+00, 6.620000e+02],\n",
              "       [6.910000e+02, 7.000000e+00, 0.000000e+00],\n",
              "       [1.000000e+00, 0.000000e+00, 0.000000e+00],\n",
              "       [1.171000e+03, 0.000000e+00, 1.410000e+02],\n",
              "       [4.000000e+00, 0.000000e+00, 0.000000e+00],\n",
              "       [9.000000e+00, 0.000000e+00, 0.000000e+00],\n",
              "       [2.870000e+02, 0.000000e+00, 0.000000e+00],\n",
              "       [2.000000e+00, 0.000000e+00, 0.000000e+00],\n",
              "       [3.000000e+00, 0.000000e+00, 0.000000e+00],\n",
              "       [8.000000e+00, 0.000000e+00, 0.000000e+00],\n",
              "       [3.000000e+01, 0.000000e+00, 0.000000e+00],\n",
              "       [2.000000e+01, 0.000000e+00, 0.000000e+00],\n",
              "       [2.600000e+01, 0.000000e+00, 0.000000e+00],\n",
              "       [7.200000e+01, 0.000000e+00, 0.000000e+00],\n",
              "       [5.900000e+01, 0.000000e+00, 1.800000e+01],\n",
              "       [3.100000e+01, 0.000000e+00, 0.000000e+00],\n",
              "       [1.500000e+01, 0.000000e+00, 0.000000e+00],\n",
              "       [1.080000e+02, 0.000000e+00, 3.000000e+00],\n",
              "       [1.310000e+02, 0.000000e+00, 1.500000e+01],\n",
              "       [1.000000e+00, 0.000000e+00, 0.000000e+00],\n",
              "       [5.000000e+00, 2.000000e+00, 0.000000e+00],\n",
              "       [8.000000e+00, 0.000000e+00, 0.000000e+00],\n",
              "       [6.000000e+00, 0.000000e+00, 0.000000e+00],\n",
              "       [8.300000e+01, 0.000000e+00, 0.000000e+00],\n",
              "       [4.300000e+01, 2.000000e+00, 2.200000e+01],\n",
              "       [1.140800e+04, 4.400000e+01, 6.967000e+03],\n",
              "       [3.131000e+04, 2.000000e+02, 1.833500e+04],\n",
              "       [1.623900e+04, 1.140000e+02, 1.013900e+04],\n",
              "       [6.199000e+03, 0.000000e+00, 4.055000e+03],\n",
              "       [1.000000e+00, 0.000000e+00, 0.000000e+00],\n",
              "       [2.000000e+00, 0.000000e+00, 0.000000e+00],\n",
              "       [2.409400e+04, 1.200000e+02, 1.380100e+04],\n",
              "       [2.000000e+00, 0.000000e+00, 0.000000e+00],\n",
              "       [1.470000e+02, 8.000000e+00, 0.000000e+00],\n",
              "       [1.000000e+01, 0.000000e+00, 0.000000e+00],\n",
              "       [4.100000e+02, 0.000000e+00, 7.400000e+01],\n",
              "       [5.610000e+02, 7.000000e+00, 0.000000e+00],\n",
              "       [1.030000e+02, 1.000000e+01, 0.000000e+00],\n",
              "       [1.000000e+00, 0.000000e+00, 0.000000e+00],\n",
              "       [2.000000e+00, 0.000000e+00, 0.000000e+00],\n",
              "       [2.700000e+01, 0.000000e+00, 0.000000e+00],\n",
              "       [2.000000e+00, 0.000000e+00, 0.000000e+00],\n",
              "       [2.200000e+01, 0.000000e+00, 4.000000e+00],\n",
              "       [2.000000e+00, 0.000000e+00, 0.000000e+00],\n",
              "       [8.000000e+00, 0.000000e+00, 0.000000e+00],\n",
              "       [1.104000e+03, 2.400000e+01, 1.890000e+02],\n",
              "       [8.700000e+01, 0.000000e+00, 9.000000e+00],\n",
              "       [3.500000e+01, 0.000000e+00, 1.100000e+01],\n",
              "       [1.042000e+03, 1.000000e+00, 0.000000e+00],\n",
              "       [1.751000e+03, 1.900000e+01, 0.000000e+00],\n",
              "       [6.051000e+03, 1.210000e+02, 3.751000e+03],\n",
              "       [5.100000e+01, 0.000000e+00, 3.800000e+01],\n",
              "       [2.380000e+02, 0.000000e+00, 3.600000e+01],\n",
              "       [5.000000e+00, 0.000000e+00, 0.000000e+00],\n",
              "       [1.000000e+01, 0.000000e+00, 0.000000e+00],\n",
              "       [3.000000e+00, 0.000000e+00, 0.000000e+00],\n",
              "       [9.120000e+02, 1.600000e+01, 3.600000e+01],\n",
              "       [4.000000e+00, 0.000000e+00, 5.320000e+02],\n",
              "       [2.000000e+00, 0.000000e+00, 0.000000e+00],\n",
              "       [8.000000e+00, 0.000000e+00, 0.000000e+00],\n",
              "       [6.480000e+02, 0.000000e+00, 0.000000e+00],\n",
              "       [1.000000e+00, 0.000000e+00, 0.000000e+00],\n",
              "       [2.000000e+01, 0.000000e+00, 0.000000e+00],\n",
              "       [1.934400e+04, 7.230000e+02, 3.660000e+02],\n",
              "       [1.300000e+01, 0.000000e+00, 0.000000e+00],\n",
              "       [2.000000e+00, 0.000000e+00, 0.000000e+00],\n",
              "       [4.530000e+02, 0.000000e+00, 0.000000e+00],\n",
              "       [1.290000e+02, 4.000000e+00, 0.000000e+00],\n",
              "       [1.107000e+03, 0.000000e+00, 2.040000e+02],\n",
              "       [7.000000e+00, 0.000000e+00, 0.000000e+00],\n",
              "       [2.000000e+00, 0.000000e+00, 0.000000e+00],\n",
              "       [6.700000e+02, 1.200000e+01, 0.000000e+00],\n",
              "       [2.000000e+00, 0.000000e+00, 0.000000e+00],\n",
              "       [7.000000e+00, 0.000000e+00, 0.000000e+00],\n",
              "       [9.651000e+03, 5.580000e+02, 7.000000e+00],\n",
              "       [2.700000e+01, 0.000000e+00, 0.000000e+00],\n",
              "       [4.000000e+00, 0.000000e+00, 0.000000e+00],\n",
              "       [6.000000e+00, 0.000000e+00, 0.000000e+00],\n",
              "       [4.000000e+00, 0.000000e+00, 0.000000e+00],\n",
              "       [1.900000e+01, 0.000000e+00, 0.000000e+00],\n",
              "       [2.860000e+02, 0.000000e+00, 0.000000e+00],\n",
              "       [3.700000e+02, 2.000000e+01, 0.000000e+00],\n",
              "       [5.000000e+00, 0.000000e+00, 0.000000e+00],\n",
              "       [9.070000e+02, 7.000000e+00, 7.000000e+00],\n",
              "       [9.300000e+01, 0.000000e+00, 0.000000e+00],\n",
              "       [3.295000e+03, 8.700000e+01, 1.863000e+03],\n",
              "       [4.000000e+00, 0.000000e+00, 0.000000e+00],\n",
              "       [8.286000e+03, 6.100000e+01, 5.110000e+03],\n",
              "       [5.750100e+04, 3.000000e+01, 3.652700e+04]])"
            ]
          },
          "metadata": {
            "tags": []
          },
          "execution_count": 7
        }
      ]
    },
    {
      "cell_type": "code",
      "metadata": {
        "id": "gsBX37JfIAdr",
        "colab_type": "code",
        "outputId": "ae45ecc5-d49a-47c2-f177-9cbe6571be90",
        "colab": {
          "base_uri": "https://localhost:8080/",
          "height": 578
        }
      },
      "source": [
        "import seaborn as sns\n",
        "sns.pairplot(covid19,kind=\"scatter\")\n",
        "plt.show()"
      ],
      "execution_count": 0,
      "outputs": [
        {
          "output_type": "display_data",
          "data": {
            "image/png": "[encoded data removed]",
            "text/plain": [
              "<Figure size 540x540 with 12 Axes>"
            ]
          },
          "metadata": {
            "tags": []
          }
        }
      ]
    },
    {
      "cell_type": "code",
      "metadata": {
        "id": "6cj8G2MSi61s",
        "colab_type": "code",
        "outputId": "116c330d-7381-431e-a905-f9d1e2b92356",
        "colab": {
          "base_uri": "https://localhost:8080/",
          "height": 293
        }
      },
      "source": [
        "plt.scatter(x[:,1],x[:,2])"
      ],
      "execution_count": 0,
      "outputs": [
        {
          "output_type": "execute_result",
          "data": {
            "text/plain": [
              "<matplotlib.collections.PathCollection at 0x7f5bcef2deb8>"
            ]
          },
          "metadata": {
            "tags": []
          },
          "execution_count": 10
        },
        {
          "output_type": "display_data",
          "data": {
            "image/png": "[encoded data removed]",
            "text/plain": [
              "<Figure size 432x288 with 1 Axes>"
            ]
          },
          "metadata": {
            "tags": []
          }
        }
      ]
    },
    {
      "cell_type": "markdown",
      "metadata": {
        "id": "umvprrs7NVUy",
        "colab_type": "text"
      },
      "source": [
        "# **Finding optimal value of cluster through elbow method.**"
      ]
    },
    {
      "cell_type": "code",
      "metadata": {
        "id": "SnkULMTmRAa6",
        "colab_type": "code",
        "outputId": "16b0ab38-9c41-4e76-fe30-4f35947c71ea",
        "colab": {
          "base_uri": "https://localhost:8080/",
          "height": 295
        }
      },
      "source": [
        "sad = []\n",
        "\n",
        "for i in range(2, 21):\n",
        "    kmeans = KMeans(n_clusters = i, init = 'k-means++', max_iter = 300, n_init = 10, random_state = 0)\n",
        "    kmeans.fit(x)\n",
        "    sad.append(kmeans.score(x))\n",
        "plt.plot(range(2,21),sad)\n",
        "plt.title('The elbow method')\n",
        "plt.xlabel('Number of clusters')\n",
        "plt.ylabel('sad')\n",
        "plt.show()\n"
      ],
      "execution_count": 0,
      "outputs": [
        {
          "output_type": "display_data",
          "data": {
            "image/png": "[encoded data removed]",
            "text/plain": [
              "<Figure size 432x288 with 1 Axes>"
            ]
          },
          "metadata": {
            "tags": []
          }
        }
      ]
    },
    {
      "cell_type": "markdown",
      "metadata": {
        "id": "0WlISNH4Nmmy",
        "colab_type": "text"
      },
      "source": [
        "**From the graph we conclude the optimal value of cluster is 3.**"
      ]
    },
    {
      "cell_type": "markdown",
      "metadata": {
        "id": "YKGNs09hNxTi",
        "colab_type": "text"
      },
      "source": [
        "# **Clustering**"
      ]
    },
    {
      "cell_type": "code",
      "metadata": {
        "id": "I_kFA3RuLkWc",
        "colab_type": "code",
        "outputId": "70bf60c3-b211-4363-c2af-94f0221cd647",
        "colab": {
          "base_uri": "https://localhost:8080/",
          "height": 252
        }
      },
      "source": [
        "kmeans = KMeans(n_clusters = 3, init = 'k-means++', max_iter = 300, n_init = 10, random_state = 0)\n",
        "y_kmeans = kmeans.fit_predict(x)\n",
        "y_kmeans"
      ],
      "execution_count": 0,
      "outputs": [
        {
          "output_type": "execute_result",
          "data": {
            "text/plain": [
              "array([0, 0, 0, 0, 0, 0, 0, 0, 0, 0, 0, 0, 0, 0, 0, 0, 0, 0, 0, 0, 0, 0,\n",
              "       0, 0, 0, 0, 0, 0, 0, 0, 0, 0, 0, 0, 0, 0, 0, 0, 0, 0, 0, 0, 0, 0,\n",
              "       0, 0, 0, 0, 0, 0, 0, 0, 0, 0, 0, 0, 0, 0, 0, 0, 0, 0, 0, 0, 0, 0,\n",
              "       0, 0, 0, 0, 0, 0, 0, 2, 0, 0, 0, 0, 0, 0, 0, 0, 0, 0, 0, 0, 0, 0,\n",
              "       0, 0, 0, 0, 0, 0, 0, 0, 0, 0, 1, 0, 0, 0, 0, 0, 0, 0, 0, 0, 0, 0,\n",
              "       0, 0, 0, 0, 0, 0, 0, 0, 0, 0, 0, 0, 0, 0, 0, 0, 0, 0, 0, 0, 0, 0,\n",
              "       0, 0, 0, 0, 0, 0, 0, 0, 0, 0, 0, 0, 0, 0, 0, 0, 0, 0, 0, 0, 0, 0,\n",
              "       0, 0, 0, 0, 0, 0, 0, 0, 0, 0, 0, 0, 0, 0, 0, 0, 0, 0, 0, 0, 0, 0,\n",
              "       0, 0, 0, 0, 0, 0, 0, 0, 0, 0, 0, 0, 0, 0, 0, 0, 0, 0, 0, 0, 0, 0,\n",
              "       0, 0, 0, 0, 0, 0, 0, 0, 0, 0, 0, 0, 0, 0, 0, 0, 0, 0, 0, 0, 0, 0,\n",
              "       0, 0, 0, 0, 0, 0, 0, 0, 0, 0, 0, 0, 0, 0, 0, 0, 0, 0, 0, 0, 0, 0,\n",
              "       0, 0, 0, 0, 0, 0, 0, 0, 0, 0, 0, 0, 0, 0, 0, 0, 0, 0, 0, 0, 0, 0,\n",
              "       0, 0, 0, 0, 0, 0, 0, 0, 0, 0, 0, 0, 0, 0, 0, 0, 0, 0, 0],\n",
              "      dtype=int32)"
            ]
          },
          "metadata": {
            "tags": []
          },
          "execution_count": 12
        }
      ]
    },
    {
      "cell_type": "markdown",
      "metadata": {
        "id": "WlvZliQLgIja",
        "colab_type": "text"
      },
      "source": [
        "# **Bubble plot of three cluster in which area of each dot represents the confirmed cases**"
      ]
    },
    {
      "cell_type": "code",
      "metadata": {
        "id": "ZhVmjza1eY0a",
        "colab_type": "code",
        "outputId": "20be0f7e-6499-4fee-fa99-123c260afb43",
        "colab": {
          "base_uri": "https://localhost:8080/",
          "height": 293
        }
      },
      "source": [
        "plt.scatter(x[:, 1], x[:, 2],s=x[:,0],c=y_kmeans,cmap=\"viridis\")\n",
        "cen=kmeans.cluster_centers_\n",
        "plt.scatter(cen[:,1],cen[:,2],c=\"black\",s=40,alpha=0.8)"
      ],
      "execution_count": 0,
      "outputs": [
        {
          "output_type": "execute_result",
          "data": {
            "text/plain": [
              "<matplotlib.collections.PathCollection at 0x7f5bcef619e8>"
            ]
          },
          "metadata": {
            "tags": []
          },
          "execution_count": 13
        },
        {
          "output_type": "display_data",
          "data": {
            "image/png": "[encoded data removed]",
            "text/plain": [
              "<Figure size 432x288 with 1 Axes>"
            ]
          },
          "metadata": {
            "tags": []
          }
        }
      ]
    },
    {
      "cell_type": "markdown",
      "metadata": {
        "id": "tvxv3ZN3f39H",
        "colab_type": "text"
      },
      "source": [
        "**Finding the centers of three clusters.**"
      ]
    },
    {
      "cell_type": "code",
      "metadata": {
        "id": "_UHWtBN3fhSn",
        "colab_type": "code",
        "outputId": "987c155d-04e4-4952-ef09-dd156a9baf83",
        "colab": {
          "base_uri": "https://localhost:8080/",
          "height": 67
        }
      },
      "source": [
        "cen=kmeans.cluster_centers_\n",
        "cen"
      ],
      "execution_count": 0,
      "outputs": [
        {
          "output_type": "execute_result",
          "data": {
            "text/plain": [
              "array([[2.95522776e+03, 3.15302491e+01, 1.32373665e+03],\n",
              "       [2.69148700e+06, 1.05501000e+05, 1.20494100e+06],\n",
              "       [1.15719500e+06, 4.61230000e+04, 1.30508000e+05]])"
            ]
          },
          "metadata": {
            "tags": []
          },
          "execution_count": 14
        }
      ]
    },
    {
      "cell_type": "markdown",
      "metadata": {
        "id": "JCWulMsTgx0a",
        "colab_type": "text"
      },
      "source": [
        "**But bubble plot is not recommended for the large amount of data we do scatter plot of the clusters.**"
      ]
    },
    {
      "cell_type": "code",
      "metadata": {
        "id": "eAqCy9aLY_X0",
        "colab_type": "code",
        "outputId": "1e55f840-9050-443a-b072-da34c1d55f91",
        "colab": {
          "base_uri": "https://localhost:8080/",
          "height": 293
        }
      },
      "source": [
        "plt.scatter(x[y_kmeans == 0, 1], x[y_kmeans == 0, 2], s = 283, c = 'blue')\n",
        "plt.scatter(x[y_kmeans == 1, 1], x[y_kmeans == 1, 2], s = 283, c = 'yellow')\n",
        "plt.scatter(x[y_kmeans == 2, 1], x[y_kmeans == 2, 2], s = 283, c = 'green')\n",
        "cen=kmeans.cluster_centers_\n",
        "plt.scatter(cen[:,1],cen[:,2],c=\"black\",s=40,alpha=0.8)"
      ],
      "execution_count": 0,
      "outputs": [
        {
          "output_type": "execute_result",
          "data": {
            "text/plain": [
              "<matplotlib.collections.PathCollection at 0x7f5bcf050828>"
            ]
          },
          "metadata": {
            "tags": []
          },
          "execution_count": 15
        },
        {
          "output_type": "display_data",
          "data": {
            "image/png": "[encoded data removed]",
            "text/plain": [
              "<Figure size 432x288 with 1 Axes>"
            ]
          },
          "metadata": {
            "tags": []
          }
        }
      ]
    },
    {
      "cell_type": "markdown",
      "metadata": {
        "id": "ovL3wDzjhs7S",
        "colab_type": "text"
      },
      "source": [
        "\n",
        "1.   clusters of green and yellow color will have zero error.\n",
        "2.   From the above graph we can conclude that some clusters have variable death and recovery rates.\n",
        "\n"
      ]
    },
    {
      "cell_type": "markdown",
      "metadata": {
        "id": "kUhvhfCwrPTP",
        "colab_type": "text"
      },
      "source": [
        "# **Forming a dataframe having confirmed cases equal to 1 in any city,deaths and recovered will be fraction of that number.**"
      ]
    },
    {
      "cell_type": "code",
      "metadata": {
        "id": "bMhcBDdUiB-B",
        "colab_type": "code",
        "outputId": "6a8f193b-5865-44dd-a7c6-bf6d5c8fe011",
        "colab": {
          "base_uri": "https://localhost:8080/",
          "height": 402
        }
      },
      "source": [
        "covid19[\"Confirmed\"]=1\n",
        "covid19[\"Deaths\"]=np.random.rand(283)\n",
        "covid19[\"Recovered\"]=np.random.rand(283)\n",
        "covid19"
      ],
      "execution_count": 0,
      "outputs": [
        {
          "output_type": "execute_result",
          "data": {
            "text/html": [
              "<div>\n",
              "<style scoped>\n",
              "    .dataframe tbody tr th:only-of-type {\n",
              "        vertical-align: middle;\n",
              "    }\n",
              "\n",
              "    .dataframe tbody tr th {\n",
              "        vertical-align: top;\n",
              "    }\n",
              "\n",
              "    .dataframe thead th {\n",
              "        text-align: right;\n",
              "    }\n",
              "</style>\n",
              "<table border=\"1\" class=\"dataframe\">\n",
              "  <thead>\n",
              "    <tr style=\"text-align: right;\">\n",
              "      <th></th>\n",
              "      <th>Province/State</th>\n",
              "      <th>Confirmed</th>\n",
              "      <th>Deaths</th>\n",
              "      <th>Recovered</th>\n",
              "    </tr>\n",
              "  </thead>\n",
              "  <tbody>\n",
              "    <tr>\n",
              "      <th>0</th>\n",
              "      <td>Montreal, QC</td>\n",
              "      <td>1</td>\n",
              "      <td>0.744544</td>\n",
              "      <td>0.582242</td>\n",
              "    </tr>\n",
              "    <tr>\n",
              "      <th>1</th>\n",
              "      <td>Norfolk County, MA</td>\n",
              "      <td>1</td>\n",
              "      <td>0.690083</td>\n",
              "      <td>0.333621</td>\n",
              "    </tr>\n",
              "    <tr>\n",
              "      <th>2</th>\n",
              "      <td>Alabama</td>\n",
              "      <td>1</td>\n",
              "      <td>0.956319</td>\n",
              "      <td>0.929338</td>\n",
              "    </tr>\n",
              "    <tr>\n",
              "      <th>3</th>\n",
              "      <td>Alameda County, CA</td>\n",
              "      <td>1</td>\n",
              "      <td>0.635922</td>\n",
              "      <td>0.653240</td>\n",
              "    </tr>\n",
              "    <tr>\n",
              "      <th>4</th>\n",
              "      <td>Alaska</td>\n",
              "      <td>1</td>\n",
              "      <td>0.319998</td>\n",
              "      <td>0.514933</td>\n",
              "    </tr>\n",
              "    <tr>\n",
              "      <th>...</th>\n",
              "      <td>...</td>\n",
              "      <td>...</td>\n",
              "      <td>...</td>\n",
              "      <td>...</td>\n",
              "    </tr>\n",
              "    <tr>\n",
              "      <th>278</th>\n",
              "      <td>Wyoming</td>\n",
              "      <td>1</td>\n",
              "      <td>0.159489</td>\n",
              "      <td>0.203592</td>\n",
              "    </tr>\n",
              "    <tr>\n",
              "      <th>279</th>\n",
              "      <td>Xinjiang</td>\n",
              "      <td>1</td>\n",
              "      <td>0.379781</td>\n",
              "      <td>0.166159</td>\n",
              "    </tr>\n",
              "    <tr>\n",
              "      <th>280</th>\n",
              "      <td>Yolo County, CA</td>\n",
              "      <td>1</td>\n",
              "      <td>0.780006</td>\n",
              "      <td>0.943343</td>\n",
              "    </tr>\n",
              "    <tr>\n",
              "      <th>281</th>\n",
              "      <td>Yunnan</td>\n",
              "      <td>1</td>\n",
              "      <td>0.724871</td>\n",
              "      <td>0.382902</td>\n",
              "    </tr>\n",
              "    <tr>\n",
              "      <th>282</th>\n",
              "      <td>Zhejiang</td>\n",
              "      <td>1</td>\n",
              "      <td>0.443062</td>\n",
              "      <td>0.086083</td>\n",
              "    </tr>\n",
              "  </tbody>\n",
              "</table>\n",
              "<p>283 rows × 4 columns</p>\n",
              "</div>"
            ],
            "text/plain": [
              "          Province/State  Confirmed    Deaths  Recovered\n",
              "0           Montreal, QC          1  0.744544   0.582242\n",
              "1     Norfolk County, MA          1  0.690083   0.333621\n",
              "2                Alabama          1  0.956319   0.929338\n",
              "3     Alameda County, CA          1  0.635922   0.653240\n",
              "4                 Alaska          1  0.319998   0.514933\n",
              "..                   ...        ...       ...        ...\n",
              "278              Wyoming          1  0.159489   0.203592\n",
              "279             Xinjiang          1  0.379781   0.166159\n",
              "280      Yolo County, CA          1  0.780006   0.943343\n",
              "281               Yunnan          1  0.724871   0.382902\n",
              "282             Zhejiang          1  0.443062   0.086083\n",
              "\n",
              "[283 rows x 4 columns]"
            ]
          },
          "metadata": {
            "tags": []
          },
          "execution_count": 16
        }
      ]
    },
    {
      "cell_type": "code",
      "metadata": {
        "id": "pgmlrGhPhBeZ",
        "colab_type": "code",
        "outputId": "9b4062d8-05cf-4cc9-f4bb-c8a1b60b6c3c",
        "colab": {
          "base_uri": "https://localhost:8080/",
          "height": 1000
        }
      },
      "source": [
        "y=covid19.iloc[:,1:4].values\n",
        "y"
      ],
      "execution_count": 0,
      "outputs": [
        {
          "output_type": "execute_result",
          "data": {
            "text/plain": [
              "array([[1.        , 0.74454379, 0.58224179],\n",
              "       [1.        , 0.69008291, 0.33362093],\n",
              "       [1.        , 0.9563192 , 0.92933841],\n",
              "       [1.        , 0.63592166, 0.65323981],\n",
              "       [1.        , 0.31999806, 0.51493334],\n",
              "       [1.        , 0.72049011, 0.53211118],\n",
              "       [1.        , 0.77784764, 0.31328215],\n",
              "       [1.        , 0.01398002, 0.93678375],\n",
              "       [1.        , 0.91839278, 0.17092777],\n",
              "       [1.        , 0.34453795, 0.9185536 ],\n",
              "       [1.        , 0.89641622, 0.39118343],\n",
              "       [1.        , 0.56627677, 0.59944985],\n",
              "       [1.        , 0.31298207, 0.30356326],\n",
              "       [1.        , 0.72854595, 0.31552501],\n",
              "       [1.        , 0.34161163, 0.8213667 ],\n",
              "       [1.        , 0.5927145 , 0.29306947],\n",
              "       [1.        , 0.17486335, 0.87824689],\n",
              "       [1.        , 0.3254131 , 0.44307631],\n",
              "       [1.        , 0.78073637, 0.07519083],\n",
              "       [1.        , 0.76163403, 0.38770681],\n",
              "       [1.        , 0.65161504, 0.9900475 ],\n",
              "       [1.        , 0.13834215, 0.3110381 ],\n",
              "       [1.        , 0.95806513, 0.40362887],\n",
              "       [1.        , 0.38784036, 0.21577942],\n",
              "       [1.        , 0.1542687 , 0.626908  ],\n",
              "       [1.        , 0.68526002, 0.51433808],\n",
              "       [1.        , 0.05867521, 0.86898987],\n",
              "       [1.        , 0.9466432 , 0.32094375],\n",
              "       [1.        , 0.97963574, 0.12217329],\n",
              "       [1.        , 0.64705815, 0.35488781],\n",
              "       [1.        , 0.52269323, 0.22663437],\n",
              "       [1.        , 0.39099984, 0.32961387],\n",
              "       [1.        , 0.82084481, 0.56558555],\n",
              "       [1.        , 0.18003534, 0.83508795],\n",
              "       [1.        , 0.43392211, 0.13984679],\n",
              "       [1.        , 0.10890476, 0.95540821],\n",
              "       [1.        , 0.91146323, 0.44247806],\n",
              "       [1.        , 0.38108092, 0.46379883],\n",
              "       [1.        , 0.33685913, 0.08183692],\n",
              "       [1.        , 0.36057496, 0.19438595],\n",
              "       [1.        , 0.08571728, 0.99027424],\n",
              "       [1.        , 0.27057488, 0.05417611],\n",
              "       [1.        , 0.45720471, 0.13962273],\n",
              "       [1.        , 0.17227488, 0.24799443],\n",
              "       [1.        , 0.56584247, 0.22265163],\n",
              "       [1.        , 0.44256195, 0.76281371],\n",
              "       [1.        , 0.77019003, 0.66130356],\n",
              "       [1.        , 0.88796288, 0.86675861],\n",
              "       [1.        , 0.2910915 , 0.75653258],\n",
              "       [1.        , 0.31105713, 0.46944812],\n",
              "       [1.        , 0.69288083, 0.92505277],\n",
              "       [1.        , 0.07567086, 0.43896138],\n",
              "       [1.        , 0.58347729, 0.27177949],\n",
              "       [1.        , 0.6150535 , 0.06655277],\n",
              "       [1.        , 0.820175  , 0.3355052 ],\n",
              "       [1.        , 0.37659092, 0.98122367],\n",
              "       [1.        , 0.23526691, 0.24110131],\n",
              "       [1.        , 0.08003334, 0.66927067],\n",
              "       [1.        , 0.19095174, 0.34164173],\n",
              "       [1.        , 0.02381237, 0.91848144],\n",
              "       [1.        , 0.49554055, 0.05552701],\n",
              "       [1.        , 0.98285425, 0.27968982],\n",
              "       [1.        , 0.34052551, 0.52666393],\n",
              "       [1.        , 0.72934825, 0.59262931],\n",
              "       [1.        , 0.89319891, 0.72706025],\n",
              "       [1.        , 0.65270178, 0.07820057],\n",
              "       [1.        , 0.13696244, 0.82174851],\n",
              "       [1.        , 0.19763616, 0.74212411],\n",
              "       [1.        , 0.17837139, 0.04838651],\n",
              "       [1.        , 0.50569485, 0.36460569],\n",
              "       [1.        , 0.2955232 , 0.87945954],\n",
              "       [1.        , 0.04007104, 0.54027231],\n",
              "       [1.        , 0.9501547 , 0.78481225],\n",
              "       [1.        , 0.69999309, 0.23787932],\n",
              "       [1.        , 0.42906085, 0.40430787],\n",
              "       [1.        , 0.84523089, 0.6720969 ],\n",
              "       [1.        , 0.00289337, 0.92812167],\n",
              "       [1.        , 0.9555077 , 0.84567085],\n",
              "       [1.        , 0.64892319, 0.65068333],\n",
              "       [1.        , 0.78796327, 0.76559808],\n",
              "       [1.        , 0.3333117 , 0.26680211],\n",
              "       [1.        , 0.68520426, 0.09084801],\n",
              "       [1.        , 0.28704645, 0.59997203],\n",
              "       [1.        , 0.2458661 , 0.89977926],\n",
              "       [1.        , 0.09790551, 0.30765737],\n",
              "       [1.        , 0.52080541, 0.3039531 ],\n",
              "       [1.        , 0.7013066 , 0.20509577],\n",
              "       [1.        , 0.05598582, 0.66844427],\n",
              "       [1.        , 0.30286806, 0.38766732],\n",
              "       [1.        , 0.1177854 , 0.73044536],\n",
              "       [1.        , 0.08056278, 0.99845492],\n",
              "       [1.        , 0.32404211, 0.31991919],\n",
              "       [1.        , 0.67781066, 0.19949376],\n",
              "       [1.        , 0.5938877 , 0.37923854],\n",
              "       [1.        , 0.07600334, 0.17796298],\n",
              "       [1.        , 0.97141719, 0.89756151],\n",
              "       [1.        , 0.68897978, 0.67342072],\n",
              "       [1.        , 0.21115767, 0.36678688],\n",
              "       [1.        , 0.72006589, 0.73594714],\n",
              "       [1.        , 0.64892641, 0.52245259],\n",
              "       [1.        , 0.6598096 , 0.93282553],\n",
              "       [1.        , 0.10480068, 0.90946312],\n",
              "       [1.        , 0.13969146, 0.30896109],\n",
              "       [1.        , 0.91741859, 0.30550775],\n",
              "       [1.        , 0.31707889, 0.88878008],\n",
              "       [1.        , 0.06368149, 0.11156086],\n",
              "       [1.        , 0.42329085, 0.8716977 ],\n",
              "       [1.        , 0.73299012, 0.00445104],\n",
              "       [1.        , 0.36498336, 0.08286432],\n",
              "       [1.        , 0.81270398, 0.88800098],\n",
              "       [1.        , 0.47660985, 0.13642967],\n",
              "       [1.        , 0.09949388, 0.43290898],\n",
              "       [1.        , 0.5621029 , 0.53136961],\n",
              "       [1.        , 0.07616822, 0.76262243],\n",
              "       [1.        , 0.11518614, 0.94355373],\n",
              "       [1.        , 0.4589438 , 0.85497795],\n",
              "       [1.        , 0.25691734, 0.54223655],\n",
              "       [1.        , 0.2522925 , 0.15366992],\n",
              "       [1.        , 0.23143372, 0.78024487],\n",
              "       [1.        , 0.21631217, 0.77956976],\n",
              "       [1.        , 0.06179964, 0.60642083],\n",
              "       [1.        , 0.26427864, 0.56704987],\n",
              "       [1.        , 0.67490867, 0.10397916],\n",
              "       [1.        , 0.37272118, 0.55611235],\n",
              "       [1.        , 0.31436255, 0.19087515],\n",
              "       [1.        , 0.05731749, 0.14625657],\n",
              "       [1.        , 0.64046998, 0.75252083],\n",
              "       [1.        , 0.42066738, 0.40826665],\n",
              "       [1.        , 0.50410627, 0.7761144 ],\n",
              "       [1.        , 0.0796893 , 0.138956  ],\n",
              "       [1.        , 0.62914564, 0.46984604],\n",
              "       [1.        , 0.13104432, 0.96409237],\n",
              "       [1.        , 0.25336515, 0.30978922],\n",
              "       [1.        , 0.09743326, 0.7528909 ],\n",
              "       [1.        , 0.87970692, 0.52228298],\n",
              "       [1.        , 0.52775416, 0.96345184],\n",
              "       [1.        , 0.62265077, 0.78309319],\n",
              "       [1.        , 0.52084495, 0.67759476],\n",
              "       [1.        , 0.55624704, 0.58613753],\n",
              "       [1.        , 0.79611701, 0.00727329],\n",
              "       [1.        , 0.92662825, 0.02306734],\n",
              "       [1.        , 0.65608256, 0.24626181],\n",
              "       [1.        , 0.5604262 , 0.68821074],\n",
              "       [1.        , 0.95604789, 0.45915313],\n",
              "       [1.        , 0.17867428, 0.0388118 ],\n",
              "       [1.        , 0.66942318, 0.28559799],\n",
              "       [1.        , 0.25826305, 0.64083101],\n",
              "       [1.        , 0.91569245, 0.9892649 ],\n",
              "       [1.        , 0.52535575, 0.92203515],\n",
              "       [1.        , 0.16899571, 0.0777353 ],\n",
              "       [1.        , 0.20894307, 0.81467293],\n",
              "       [1.        , 0.98906142, 0.96366594],\n",
              "       [1.        , 0.22772826, 0.92609897],\n",
              "       [1.        , 0.1702646 , 0.43530543],\n",
              "       [1.        , 0.58368233, 0.63908015],\n",
              "       [1.        , 0.76742206, 0.61586028],\n",
              "       [1.        , 0.2517211 , 0.53943657],\n",
              "       [1.        , 0.33023151, 0.15129183],\n",
              "       [1.        , 0.2448815 , 0.50114331],\n",
              "       [1.        , 0.98802376, 0.38412642],\n",
              "       [1.        , 0.13716739, 0.28571551],\n",
              "       [1.        , 0.14735104, 0.73225036],\n",
              "       [1.        , 0.71492574, 0.58444366],\n",
              "       [1.        , 0.67357272, 0.85460573],\n",
              "       [1.        , 0.39246727, 0.11355699],\n",
              "       [1.        , 0.13259457, 0.11844623],\n",
              "       [1.        , 0.78192367, 0.48628355],\n",
              "       [1.        , 0.94503101, 0.62532354],\n",
              "       [1.        , 0.97331985, 0.76575512],\n",
              "       [1.        , 0.89374208, 0.50824636],\n",
              "       [1.        , 0.70757804, 0.15312682],\n",
              "       [1.        , 0.82276569, 0.95431488],\n",
              "       [1.        , 0.74488627, 0.86753966],\n",
              "       [1.        , 0.24064194, 0.31729069],\n",
              "       [1.        , 0.53070005, 0.86956969],\n",
              "       [1.        , 0.14815622, 0.98782809],\n",
              "       [1.        , 0.85669933, 0.8911626 ],\n",
              "       [1.        , 0.90970152, 0.95294819],\n",
              "       [1.        , 0.10840632, 0.66547244],\n",
              "       [1.        , 0.57414114, 0.98620706],\n",
              "       [1.        , 0.23752441, 0.82293744],\n",
              "       [1.        , 0.58750868, 0.75991819],\n",
              "       [1.        , 0.88215368, 0.54700298],\n",
              "       [1.        , 0.58586866, 0.77647587],\n",
              "       [1.        , 0.45741098, 0.05407597],\n",
              "       [1.        , 0.24388549, 0.47884606],\n",
              "       [1.        , 0.14027659, 0.18069788],\n",
              "       [1.        , 0.72250202, 0.20254798],\n",
              "       [1.        , 0.47346076, 0.35438229],\n",
              "       [1.        , 0.0403947 , 0.95578396],\n",
              "       [1.        , 0.74531151, 0.86784281],\n",
              "       [1.        , 0.36782296, 0.20220248],\n",
              "       [1.        , 0.39066949, 0.7228727 ],\n",
              "       [1.        , 0.46345221, 0.74379547],\n",
              "       [1.        , 0.7405179 , 0.20097385],\n",
              "       [1.        , 0.5868493 , 0.15872882],\n",
              "       [1.        , 0.22328579, 0.52130109],\n",
              "       [1.        , 0.78925119, 0.65016566],\n",
              "       [1.        , 0.77758996, 0.63513213],\n",
              "       [1.        , 0.7916055 , 0.95384432],\n",
              "       [1.        , 0.25675544, 0.32049244],\n",
              "       [1.        , 0.28558316, 0.4283887 ],\n",
              "       [1.        , 0.2737866 , 0.5462936 ],\n",
              "       [1.        , 0.48230951, 0.26953311],\n",
              "       [1.        , 0.5202876 , 0.47224674],\n",
              "       [1.        , 0.05925182, 0.52329661],\n",
              "       [1.        , 0.95527361, 0.91852894],\n",
              "       [1.        , 0.99426466, 0.34277636],\n",
              "       [1.        , 0.9028447 , 0.17592196],\n",
              "       [1.        , 0.06278541, 0.08248592],\n",
              "       [1.        , 0.56777462, 0.32194537],\n",
              "       [1.        , 0.2068301 , 0.8758739 ],\n",
              "       [1.        , 0.78509353, 0.91806128],\n",
              "       [1.        , 0.85834842, 0.9679947 ],\n",
              "       [1.        , 0.02975864, 0.89524425],\n",
              "       [1.        , 0.30521762, 0.94115065],\n",
              "       [1.        , 0.11073814, 0.86770106],\n",
              "       [1.        , 0.9796779 , 0.86207146],\n",
              "       [1.        , 0.01028584, 0.62562587],\n",
              "       [1.        , 0.70041813, 0.05634642],\n",
              "       [1.        , 0.15625761, 0.56678344],\n",
              "       [1.        , 0.79862446, 0.87994628],\n",
              "       [1.        , 0.46064836, 0.10559811],\n",
              "       [1.        , 0.07763667, 0.47836779],\n",
              "       [1.        , 0.17098023, 0.84247898],\n",
              "       [1.        , 0.99095995, 0.85318646],\n",
              "       [1.        , 0.57170307, 0.94157824],\n",
              "       [1.        , 0.01616301, 0.5455302 ],\n",
              "       [1.        , 0.29221593, 0.19265413],\n",
              "       [1.        , 0.90189915, 0.4328307 ],\n",
              "       [1.        , 0.73075265, 0.94485272],\n",
              "       [1.        , 0.73892904, 0.59062306],\n",
              "       [1.        , 0.85098397, 0.42718471],\n",
              "       [1.        , 0.36875617, 0.9273056 ],\n",
              "       [1.        , 0.14638596, 0.25774262],\n",
              "       [1.        , 0.45157372, 0.00525875],\n",
              "       [1.        , 0.72376512, 0.42176803],\n",
              "       [1.        , 0.31671326, 0.23815046],\n",
              "       [1.        , 0.57789115, 0.81314936],\n",
              "       [1.        , 0.8375051 , 0.85836116],\n",
              "       [1.        , 0.68730134, 0.2663248 ],\n",
              "       [1.        , 0.63964527, 0.95812751],\n",
              "       [1.        , 0.52268222, 0.19831314],\n",
              "       [1.        , 0.85109831, 0.58349577],\n",
              "       [1.        , 0.94928914, 0.23070121],\n",
              "       [1.        , 0.82941282, 0.8078584 ],\n",
              "       [1.        , 0.79228072, 0.8790613 ],\n",
              "       [1.        , 0.90509208, 0.35663562],\n",
              "       [1.        , 0.98889768, 0.81108005],\n",
              "       [1.        , 0.89809661, 0.61616816],\n",
              "       [1.        , 0.68569301, 0.2090431 ],\n",
              "       [1.        , 0.70077959, 0.76064363],\n",
              "       [1.        , 0.33897184, 0.58121288],\n",
              "       [1.        , 0.91435073, 0.60165212],\n",
              "       [1.        , 0.72777165, 0.70218466],\n",
              "       [1.        , 0.51709683, 0.95150003],\n",
              "       [1.        , 0.87339892, 0.78184099],\n",
              "       [1.        , 0.92810883, 0.23804754],\n",
              "       [1.        , 0.73398078, 0.15591166],\n",
              "       [1.        , 0.87210851, 0.32144548],\n",
              "       [1.        , 0.35732651, 0.89256045],\n",
              "       [1.        , 0.41316135, 0.97941451],\n",
              "       [1.        , 0.156232  , 0.26474007],\n",
              "       [1.        , 0.26025533, 0.29056919],\n",
              "       [1.        , 0.19019132, 0.7011275 ],\n",
              "       [1.        , 0.86059749, 0.36519018],\n",
              "       [1.        , 0.15620449, 0.30254176],\n",
              "       [1.        , 0.56900485, 0.45189531],\n",
              "       [1.        , 0.91237557, 0.4785412 ],\n",
              "       [1.        , 0.03908499, 0.96918829],\n",
              "       [1.        , 0.18957849, 0.03451634],\n",
              "       [1.        , 0.75942772, 0.51525615],\n",
              "       [1.        , 0.84599947, 0.28794528],\n",
              "       [1.        , 0.43635282, 0.67808386],\n",
              "       [1.        , 0.96087485, 0.51282554],\n",
              "       [1.        , 0.76385131, 0.92950435],\n",
              "       [1.        , 0.82899868, 0.66015733],\n",
              "       [1.        , 0.98163048, 0.69510292],\n",
              "       [1.        , 0.15948863, 0.20359192],\n",
              "       [1.        , 0.37978068, 0.16615866],\n",
              "       [1.        , 0.78000617, 0.94334314],\n",
              "       [1.        , 0.72487099, 0.38290224],\n",
              "       [1.        , 0.44306204, 0.08608332]])"
            ]
          },
          "metadata": {
            "tags": []
          },
          "execution_count": 17
        }
      ]
    },
    {
      "cell_type": "markdown",
      "metadata": {
        "id": "m-t5mozLrvD2",
        "colab_type": "text"
      },
      "source": [
        "# **Visualising the raw data with scatter plot**"
      ]
    },
    {
      "cell_type": "code",
      "metadata": {
        "id": "z3172KCinC_H",
        "colab_type": "code",
        "outputId": "718143be-0207-4573-8bf8-92fa76a5436c",
        "colab": {
          "base_uri": "https://localhost:8080/",
          "height": 282
        }
      },
      "source": [
        "plt.scatter(y[:,1],y[:,2])\n"
      ],
      "execution_count": 0,
      "outputs": [
        {
          "output_type": "execute_result",
          "data": {
            "text/plain": [
              "<matplotlib.collections.PathCollection at 0x7f5bceffdd68>"
            ]
          },
          "metadata": {
            "tags": []
          },
          "execution_count": 18
        },
        {
          "output_type": "display_data",
          "data": {
            "image/png": "[encoded data removed]",
            "text/plain": [
              "<Figure size 432x288 with 1 Axes>"
            ]
          },
          "metadata": {
            "tags": []
          }
        }
      ]
    },
    {
      "cell_type": "markdown",
      "metadata": {
        "id": "1-x9QTCnr7yB",
        "colab_type": "text"
      },
      "source": [
        "# **Finding optimal value of cluster usingh elbow pattern**"
      ]
    },
    {
      "cell_type": "code",
      "metadata": {
        "id": "-rPsLNuRnZpI",
        "colab_type": "code",
        "outputId": "8710387f-004c-4d31-907a-fdc2bdce3950",
        "colab": {
          "base_uri": "https://localhost:8080/",
          "height": 295
        }
      },
      "source": [
        "pav = []\n",
        "\n",
        "for i in range(2, 21):\n",
        "    kmeans = KMeans(n_clusters = i, init = 'k-means++', max_iter = 300, n_init = 10, random_state = 0)\n",
        "    kmeans.fit(y)\n",
        "    pav.append(kmeans.score(y))\n",
        "plt.plot(range(2,21),pav)\n",
        "plt.title('The elbow method')\n",
        "plt.xlabel('Number of clusters')\n",
        "plt.ylabel('pav')\n",
        "plt.show()\n"
      ],
      "execution_count": 0,
      "outputs": [
        {
          "output_type": "display_data",
          "data": {
            "image/png": "[encoded data removed]",
            "text/plain": [
              "<Figure size 432x288 with 1 Axes>"
            ]
          },
          "metadata": {
            "tags": []
          }
        }
      ]
    },
    {
      "cell_type": "code",
      "metadata": {
        "id": "3XGKzSrMnrD8",
        "colab_type": "code",
        "outputId": "ba371b08-a730-4991-90c9-109025738d77",
        "colab": {
          "base_uri": "https://localhost:8080/",
          "height": 252
        }
      },
      "source": [
        "kmean = KMeans(n_clusters = 4, init = 'k-means++', max_iter = 300, n_init = 10, random_state = 0)\n",
        "z_kmeans = kmean.fit_predict(y)\n",
        "z_kmeans"
      ],
      "execution_count": 0,
      "outputs": [
        {
          "output_type": "execute_result",
          "data": {
            "text/plain": [
              "array([2, 0, 2, 2, 3, 0, 0, 1, 0, 1, 0, 2, 3, 0, 1, 0, 1, 3, 0, 0, 2, 3,\n",
              "       0, 3, 1, 0, 1, 0, 0, 0, 3, 3, 2, 1, 3, 1, 0, 3, 3, 3, 1, 3, 3, 3,\n",
              "       0, 1, 2, 2, 1, 3, 2, 3, 0, 0, 0, 1, 3, 1, 3, 1, 3, 0, 3, 2, 2, 0,\n",
              "       1, 1, 3, 3, 1, 1, 2, 0, 3, 2, 1, 2, 2, 2, 3, 0, 1, 1, 3, 3, 0, 1,\n",
              "       3, 1, 1, 3, 0, 0, 3, 2, 2, 3, 2, 0, 2, 1, 3, 0, 1, 3, 1, 0, 3, 2,\n",
              "       3, 3, 0, 1, 1, 1, 1, 3, 1, 1, 1, 1, 0, 1, 3, 3, 2, 3, 2, 3, 0, 1,\n",
              "       3, 1, 0, 2, 2, 2, 2, 0, 0, 0, 2, 0, 3, 0, 1, 2, 2, 3, 1, 2, 1, 3,\n",
              "       2, 2, 1, 3, 3, 0, 3, 1, 2, 2, 3, 3, 0, 2, 2, 0, 0, 2, 2, 3, 2, 1,\n",
              "       2, 2, 1, 2, 1, 2, 0, 2, 3, 3, 3, 0, 3, 1, 2, 3, 1, 1, 0, 0, 1, 2,\n",
              "       2, 2, 3, 3, 1, 3, 0, 1, 2, 0, 0, 3, 0, 1, 2, 2, 1, 1, 1, 2, 1, 0,\n",
              "       1, 2, 3, 3, 1, 2, 2, 1, 3, 0, 2, 2, 0, 1, 3, 3, 0, 3, 2, 2, 0, 2,\n",
              "       3, 2, 0, 2, 2, 0, 2, 2, 0, 2, 1, 2, 2, 2, 2, 0, 0, 0, 1, 1, 3, 3,\n",
              "       1, 0, 3, 0, 0, 1, 3, 0, 0, 1, 0, 2, 2, 2, 3, 3, 2, 0, 3],\n",
              "      dtype=int32)"
            ]
          },
          "metadata": {
            "tags": []
          },
          "execution_count": 20
        }
      ]
    },
    {
      "cell_type": "markdown",
      "metadata": {
        "id": "ynI3E8UzsJ7R",
        "colab_type": "text"
      },
      "source": [
        "# **Clustering**"
      ]
    },
    {
      "cell_type": "code",
      "metadata": {
        "id": "UwAp_lp3pL3o",
        "colab_type": "code",
        "outputId": "96cee99d-5d42-410a-8063-24ffc71d110f",
        "colab": {
          "base_uri": "https://localhost:8080/",
          "height": 282
        }
      },
      "source": [
        "plt.scatter(y[:, 1], y[:, 2],s=40,c=z_kmeans,cmap=\"viridis\",alpha=1)\n",
        "cen=kmean.cluster_centers_\n",
        "plt.scatter(cen[:,1],cen[:,2],c=\"orange\",s=80,alpha=0.8)"
      ],
      "execution_count": 0,
      "outputs": [
        {
          "output_type": "execute_result",
          "data": {
            "text/plain": [
              "<matplotlib.collections.PathCollection at 0x7f5bcbe05a20>"
            ]
          },
          "metadata": {
            "tags": []
          },
          "execution_count": 21
        },
        {
          "output_type": "display_data",
          "data": {
            "image/png": "[encoded data removed]",
            "text/plain": [
              "<Figure size 432x288 with 1 Axes>"
            ]
          },
          "metadata": {
            "tags": []
          }
        }
      ]
    },
    {
      "cell_type": "markdown",
      "metadata": {
        "id": "u2jcyZcXsw2l",
        "colab_type": "text"
      },
      "source": [
        "**In this analysis i have 4 clusters each point in each cluster is a unit circle because as we set confirmed cases in each city equal to 1.**"
      ]
    },
    {
      "cell_type": "code",
      "metadata": {
        "id": "0JBqWB0mpZPj",
        "colab_type": "code",
        "outputId": "24c9acfc-5731-43c9-c4dc-52b7df5ca7bf",
        "colab": {
          "base_uri": "https://localhost:8080/",
          "height": 84
        }
      },
      "source": [
        "cent=kmean.cluster_centers_\n",
        "cent"
      ],
      "execution_count": 0,
      "outputs": [
        {
          "output_type": "execute_result",
          "data": {
            "text/plain": [
              "array([[1.        , 0.77180947, 0.30711717],\n",
              "       [1.        , 0.20079756, 0.78418848],\n",
              "       [1.        , 0.76051367, 0.79362237],\n",
              "       [1.        , 0.28410706, 0.25127287]])"
            ]
          },
          "metadata": {
            "tags": []
          },
          "execution_count": 22
        }
      ]
    },
    {
      "cell_type": "markdown",
      "metadata": {
        "id": "esDIGxyiXZKd",
        "colab_type": "text"
      },
      "source": [
        "# Team MBBS\n"
      ]
    },
    {
      "cell_type": "markdown",
      "metadata": {
        "id": "KgRtnBWkXjW6",
        "colab_type": "text"
      },
      "source": [
        "**M.V.S.Bhargav Ram - 19PA1A05A0**\n"
      ]
    },
    {
      "cell_type": "markdown",
      "metadata": {
        "id": "shRIuecCYFCh",
        "colab_type": "text"
      },
      "source": [
        "**M.Siva Rama Krishna-19PA1A05B7**"
      ]
    },
    {
      "cell_type": "markdown",
      "metadata": {
        "id": "ZHIYhbnhYV1A",
        "colab_type": "text"
      },
      "source": [
        "**K.Bharath Kumar-19PA1A0580**"
      ]
    },
    {
      "cell_type": "markdown",
      "metadata": {
        "id": "Sh3VrxtRYh5J",
        "colab_type": "text"
      },
      "source": [
        "**K.Murali Naidu-19PA1A0588**"
      ]
    },
    {
      "cell_type": "markdown",
      "metadata": {
        "id": "JiuLTHJiYstP",
        "colab_type": "text"
      },
      "source": [
        ""
      ]
    }
  ]
}